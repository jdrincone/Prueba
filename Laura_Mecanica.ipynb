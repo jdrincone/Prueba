{
 "cells": [
  {
   "cell_type": "markdown",
   "metadata": {},
   "source": [
    "Deseamos calcular los torques que generan la barra de magnésio y de acero \n",
    "\\begin{equation}\n",
    "T_{ac}+T_{mg}-5000=0\n",
    "\\end{equation}\n",
    "Dado que $(\\phi_{ac})_A=(\\phi_{mg})_A$, entonces:\n",
    "\\begin{equation}\n",
    "\\frac{T_{ac}l_{ac}}{J_{ac} G_{ac}}=\\frac{T_{mg}l_{mg}}{J_{mg} G_{mg}}\n",
    "\\end{equation}\n",
    "Las ecuaciones anteriores las podemos escribir como:\n",
    "\\begin{align}\n",
    "T_{ac}+T_{mg}=5000\\\\\n",
    "\\frac{l_{ac}}{J_{ac} G_{ac}}T_{ac}-\\frac{l_{mg}}{J_{mg} G_{mg}}T_{mg}&=0\n",
    "\\end{align}\n",
    "que se puede escribir en forma matricial como:\n",
    "\n",
    "\\begin{equation*} % Entorno desde el cual pueden usarse los entornos y funciones matematicas\n",
    "\\begin{pmatrix} % O matrices como esta de 4 x 3\n",
    "1 &1 \\\\ \n",
    "\\frac{l_{ac}}{J_{ac} G_{ac}} &-\\frac{l_{mg}}{J_{mg} G_{mg}} \n",
    "\\end{pmatrix}\n",
    "\\begin{pmatrix}\n",
    "T_{ac} \\\\\n",
    "T_{mg} \\\\\n",
    "\\end{pmatrix}=\n",
    "\\begin{pmatrix}\n",
    "5000\\\\\n",
    "0\n",
    "\\end{pmatrix}\n",
    "\\end{equation*}\n"
   ]
  },
  {
   "cell_type": "code",
   "execution_count": null,
   "metadata": {},
   "outputs": [],
   "source": []
  },
  {
   "cell_type": "code",
   "execution_count": 40,
   "metadata": {},
   "outputs": [],
   "source": []
  },
  {
   "cell_type": "code",
   "execution_count": 87,
   "metadata": {},
   "outputs": [],
   "source": [
    "def funcion_calculo(r_a, r_m, G_ac, G_mag, l):\n",
    "    l_mag = l\n",
    "    l_ac = l\n",
    "    J_mag = np.pi/2*( r_m**4-r_a**4)\n",
    "    J_ac = np.pi /2* r_a**4\n",
    "    A = np.array([[1,1],[l_ac/(J_ac*G_ac),-l_mag/(J_mag*G_mag)]])\n",
    "    b = np.array([torque_in,0])\n",
    "    x = np.linalg.solve(A, b)\n",
    "    esfuerzo_ac =x[0]*r_a/J_ac\n",
    "    esfuerzo_mag = x[1]*r_m/J_mag\n",
    "    esfuerzo_mini_mag = r_a/r_m*esfuerzo_mag\n",
    "    print(f'El torque del magnésio es:{x[1]:0.5f}Nm')\n",
    "    print(f'El torque del acero es:{x[0]:0.5f}Nm')\n",
    "    print(f'El esfuerzo del acero es:{esfuerzo_ac/10**6:0.2f}MPa')\n",
    "    print(f'El esfuerzo del magnésio es:{esfuerzo_mag/10**6:0.2f}MPa')\n",
    "    print(f'El esfuerzo mínimo del magnésio es de: {esfuerzo_mini_mag/10**6:0.2f}MPa')"
   ]
  },
  {
   "cell_type": "code",
   "execution_count": 90,
   "metadata": {},
   "outputs": [
    {
     "name": "stdout",
     "output_type": "stream",
     "text": [
      "El torque del magnésio es:3913.04348Nm\n",
      "El torque del acero es:1086.95652Nm\n",
      "El esfuerzo del acero es:86.50MPa\n",
      "El esfuerzo del magnésio es:41.52MPa\n",
      "El esfuerzo mínimo del magnésio es de: 20.76MPa\n"
     ]
    }
   ],
   "source": [
    "funcion_calculo(r_a, r_m, G_ac, G_mag, l)"
   ]
  },
  {
   "cell_type": "code",
   "execution_count": null,
   "metadata": {},
   "outputs": [],
   "source": []
  }
 ],
 "metadata": {
  "kernelspec": {
   "display_name": "Python 3",
   "language": "python",
   "name": "python3"
  },
  "language_info": {
   "codemirror_mode": {
    "name": "ipython",
    "version": 3
   },
   "file_extension": ".py",
   "mimetype": "text/x-python",
   "name": "python",
   "nbconvert_exporter": "python",
   "pygments_lexer": "ipython3",
   "version": "3.7.6"
  }
 },
 "nbformat": 4,
 "nbformat_minor": 4
}
